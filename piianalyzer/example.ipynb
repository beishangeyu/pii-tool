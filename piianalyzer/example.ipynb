{
 "cells": [
  {
   "cell_type": "code",
   "execution_count": 1,
   "id": "7a1736c2",
   "metadata": {},
   "outputs": [],
   "source": [
    "import os\n",
    "\n",
    "os.environ[\"CLASSPATH\"] = \"./stanford-ner.jar\"\n",
    "from piianalyzer.analyzer import PiiAnalyzer\n",
    "\n",
    "filepath = \"./tests/files/pii.csv\"\n",
    "piianalyzer = PiiAnalyzer(filepath)\n",
    "analysis = piianalyzer.analysis()"
   ]
  },
  {
   "cell_type": "code",
   "execution_count": 2,
   "id": "14fd6983",
   "metadata": {},
   "outputs": [
    {
     "data": {
      "text/plain": [
       "{'people': ['Wagner', 'Anna'],\n",
       " 'locations': ['United', 'States', 'Michael', 'Benin'],\n",
       " 'organizations': ['Roberts'],\n",
       " 'emails': ['mroberts2@pbs.org',\n",
       "  'awagner3@altervista.org',\n",
       "  'mwagner4@zimbio.com'],\n",
       " 'phone_numbers': ['0796477389', '9-(937)171-5306', '4-(374)794-1813'],\n",
       " 'street_addresses': [],\n",
       " 'credit_cards': [],\n",
       " 'ips': ['72.141.150.39', '247.65.204.78', '202.9.208.160']}"
      ]
     },
     "execution_count": 2,
     "metadata": {},
     "output_type": "execute_result"
    }
   ],
   "source": [
    "analysis"
   ]
  },
  {
   "cell_type": "code",
   "execution_count": 1,
   "id": "c4fe1f95",
   "metadata": {},
   "outputs": [],
   "source": [
    "import pandas as pd\n",
    "import json\n",
    "\n",
    "input_path = \"/mnt/mingd3/PII_detect/piianalyzer/tests/files/english_pii_43k.jsonl\"\n",
    "output_path = \"/mnt/mingd3/PII_detect/piianalyzer/tests/files/english_pii_43k.csv\"\n",
    "\n",
    "# 逐行读取 JSONL 文件并解析为字典\n",
    "with open(input_path, 'r', encoding='utf-8') as f:\n",
    "    data = [json.loads(line) for _, line in zip(range(3), f)]\n",
    "\n",
    "# 转为 DataFrame 并保存为 CSV\n",
    "df = pd.DataFrame(data)\n",
    "df.to_csv(output_path, index=False)"
   ]
  }
 ],
 "metadata": {
  "kernelspec": {
   "display_name": "analyzer",
   "language": "python",
   "name": "python3"
  },
  "language_info": {
   "codemirror_mode": {
    "name": "ipython",
    "version": 3
   },
   "file_extension": ".py",
   "mimetype": "text/x-python",
   "name": "python",
   "nbconvert_exporter": "python",
   "pygments_lexer": "ipython3",
   "version": "3.8.20"
  }
 },
 "nbformat": 4,
 "nbformat_minor": 5
}
