{
 "cells": [
  {
   "cell_type": "code",
   "execution_count": 1,
   "id": "0e994a0c",
   "metadata": {},
   "outputs": [],
   "source": [
    "import sqlite3\n",
    "import pandas as pd\n",
    "\n",
    "# 读取 CSV 文件\n",
    "csv_file = \"./tests/samples/sample-data.csv\"\n",
    "df = pd.read_csv(csv_file)\n",
    "\n",
    "# 创建 SQLite 数据库并连接\n",
    "db_file = \"sample_data.db\"\n",
    "conn = sqlite3.connect(db_file)\n",
    "\n",
    "# 将 DataFrame 导入 SQLite 数据库\n",
    "table_name = \"sample_data\"\n",
    "df.to_sql(table_name, conn, if_exists=\"replace\", index=False)\n",
    "\n",
    "conn.close()"
   ]
  }
 ],
 "metadata": {
  "kernelspec": {
   "display_name": "csv2db",
   "language": "python",
   "name": "python3"
  },
  "language_info": {
   "codemirror_mode": {
    "name": "ipython",
    "version": 3
   },
   "file_extension": ".py",
   "mimetype": "text/x-python",
   "name": "python",
   "nbconvert_exporter": "python",
   "pygments_lexer": "ipython3",
   "version": "3.8.20"
  }
 },
 "nbformat": 4,
 "nbformat_minor": 5
}
