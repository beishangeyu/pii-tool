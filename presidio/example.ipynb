{
 "cells": [
  {
   "cell_type": "code",
   "execution_count": 1,
   "id": "2b9a1453",
   "metadata": {},
   "outputs": [
    {
     "name": "stdout",
     "output_type": "stream",
     "text": [
      "[type: PHONE_NUMBER, start: 19, end: 31, score: 0.75]\n",
      "text: My phone number is <PHONE_NUMBER>\n",
      "items:\n",
      "[\n",
      "    {'start': 19, 'end': 33, 'entity_type': 'PHONE_NUMBER', 'text': '<PHONE_NUMBER>', 'operator': 'replace'}\n",
      "]\n",
      "\n"
     ]
    }
   ],
   "source": [
    "from presidio_analyzer import AnalyzerEngine\n",
    "from presidio_anonymizer import AnonymizerEngine\n",
    "\n",
    "text=\"My phone number is 212-555-5555\"\n",
    "\n",
    "# Set up the engine, loads the NLP module (spaCy model by default) \n",
    "# and other PII recognizers\n",
    "analyzer = AnalyzerEngine()\n",
    "\n",
    "# Call analyzer to get results\n",
    "results = analyzer.analyze(text=text,\n",
    "                           entities=[\"PHONE_NUMBER\"],\n",
    "                           language='en')\n",
    "print(results)\n",
    "\n",
    "# Analyzer results are passed to the AnonymizerEngine for anonymization\n",
    "\n",
    "anonymizer = AnonymizerEngine()\n",
    "\n",
    "anonymized_text = anonymizer.anonymize(text=text,analyzer_results=results)\n",
    "\n",
    "print(anonymized_text)"
   ]
  },
  {
   "cell_type": "code",
   "execution_count": 2,
   "id": "73b9608a",
   "metadata": {},
   "outputs": [
    {
     "name": "stdout",
     "output_type": "stream",
     "text": [
      "被识别的敏感词：\n",
      "OpenAI -> COMPANY_NAME (置信度: 1.00)\n",
      "Presidio -> COMPANY_NAME (置信度: 1.00)\n"
     ]
    }
   ],
   "source": [
    "# 直接把某些词定义为某个类型的实体\n",
    "from presidio_analyzer import AnalyzerEngine, PatternRecognizer\n",
    "\n",
    "# 1. 创建 deny-list\n",
    "company_list = [\"Presidio\", \"OpenAI\"]\n",
    "\n",
    "# 2. 新建一个 PatternRecognizer，把 deny-list 关联到 COMPANY_NAME 实体\n",
    "company_recognizer = PatternRecognizer(supported_entity=\"COMPANY_NAME\", deny_list=company_list)\n",
    "\n",
    "# 3. 创建分析引擎，并注册自定义识别器\n",
    "analyzer = AnalyzerEngine()\n",
    "analyzer.registry.add_recognizer(company_recognizer)\n",
    "\n",
    "# 4. 输入要分析的文本\n",
    "text = \"OpenAI 和 Presidio 都是做人工智能相关的软件公司。\"\n",
    "\n",
    "# 5. 执行分析\n",
    "results = analyzer.analyze(text=text, language=\"en\")  # 英文检测效果最佳\n",
    "\n",
    "# 6. 输出结果\n",
    "print(\"被识别的敏感词：\")\n",
    "for res in results:\n",
    "    print(f\"{text[res.start:res.end]} -> {res.entity_type} (置信度: {res.score:.2f})\")\n"
   ]
  },
  {
   "cell_type": "code",
   "execution_count": 3,
   "id": "a5c47bf3",
   "metadata": {},
   "outputs": [
    {
     "name": "stdout",
     "output_type": "stream",
     "text": [
      "被识别的敏感信息：\n",
      "zhangsan@mycompany.com -> EMAIL_ADDRESS (置信度: 1.00)\n",
      "test@gmail.com -> EMAIL_ADDRESS (置信度: 1.00)\n",
      "zhangsan@mycompany.com -> CUSTOM_EMAIL (置信度: 0.90)\n",
      "EMP-123456 -> EMPLOYEE_ID (置信度: 0.80)\n",
      "EMP-654321 -> EMPLOYEE_ID (置信度: 0.80)\n",
      "mycompany.com -> URL (置信度: 0.50)\n",
      "gmail.com -> URL (置信度: 0.50)\n",
      "123456 -> US_DRIVER_LICENSE (置信度: 0.01)\n",
      "654321 -> US_DRIVER_LICENSE (置信度: 0.01)\n"
     ]
    }
   ],
   "source": [
    "# 使用正则表达式检测\n",
    "from presidio_analyzer import AnalyzerEngine, PatternRecognizer, Pattern\n",
    "\n",
    "# 1. 定义员工号的正则表达式\n",
    "employee_id_pattern = Pattern(name=\"employee_id_pattern\", regex=r\"EMP-\\d{6}\", score=0.8)\n",
    "employee_id_recognizer = PatternRecognizer(\n",
    "    supported_entity=\"EMPLOYEE_ID\",\n",
    "    patterns=[employee_id_pattern]\n",
    ")\n",
    "\n",
    "# 2. 定义自定义邮箱正则（比如只识别 mycompany.com 的邮箱）\n",
    "custom_email_pattern = Pattern(name=\"my_email_pattern\", regex=r\"\\b[A-Za-z0-9._%+-]+@mycompany\\.com\\b\", score=0.9)\n",
    "custom_email_recognizer = PatternRecognizer(\n",
    "    supported_entity=\"CUSTOM_EMAIL\",\n",
    "    patterns=[custom_email_pattern]\n",
    ")\n",
    "\n",
    "# 3. 创建 Presidio 引擎并注册两个自定义识别器\n",
    "analyzer = AnalyzerEngine()\n",
    "analyzer.registry.add_recognizer(employee_id_recognizer)\n",
    "analyzer.registry.add_recognizer(custom_email_recognizer)\n",
    "\n",
    "# 4. 测试文本\n",
    "text = \"员工号为EMP-123456，邮箱是 zhangsan@mycompany.com 或 test@gmail.com，工号 EMP-654321 也有效。\"\n",
    "\n",
    "# 5. 分析\n",
    "results = analyzer.analyze(text=text, language=\"en\")  # 英文环境即可\n",
    "\n",
    "# 6. 输出识别结果\n",
    "print(\"被识别的敏感信息：\")\n",
    "for res in results:\n",
    "    print(f\"{text[res.start:res.end]} -> {res.entity_type} (置信度: {res.score:.2f})\")\n"
   ]
  },
  {
   "cell_type": "code",
   "execution_count": 4,
   "id": "1734743b",
   "metadata": {},
   "outputs": [
    {
     "name": "stdout",
     "output_type": "stream",
     "text": [
      "Results:\n",
      "type: PERSON, start: 0, end: 7, score: 0.85\n",
      "type: DATE_TIME, start: 17, end: 24, score: 0.85\n",
      "type: NUMBER, start: 17, end: 21, score: 0.7\n",
      "type: NUMBER, start: 22, end: 24, score: 0.7\n"
     ]
    }
   ],
   "source": [
    "# 自定义识别器示例：识别数字\n",
    "from typing import List\n",
    "from presidio_analyzer import EntityRecognizer, RecognizerResult\n",
    "from presidio_analyzer.nlp_engine import NlpArtifacts\n",
    "from presidio_analyzer import AnalyzerEngine\n",
    "\n",
    "\n",
    "class NumbersRecognizer(EntityRecognizer):\n",
    "\n",
    "    expected_confidence_level = 0.7  # expected confidence level for this recognizer\n",
    "\n",
    "    def load(self) -> None:\n",
    "        \"\"\"No loading is required.\"\"\"\n",
    "        pass\n",
    "\n",
    "    def analyze(\n",
    "        self, text: str, entities: List[str], nlp_artifacts: NlpArtifacts\n",
    "    ) -> List[RecognizerResult]:\n",
    "        \"\"\"\n",
    "        Analyzes test to find tokens which represent numbers (either 123 or One Two Three).\n",
    "        \"\"\"\n",
    "        results = []\n",
    "\n",
    "        # iterate over the spaCy tokens, and call `token.like_num`\n",
    "        for token in nlp_artifacts.tokens:\n",
    "            if token.like_num:\n",
    "                result = RecognizerResult(\n",
    "                    entity_type=\"NUMBER\",\n",
    "                    start=token.idx,\n",
    "                    end=token.idx + len(token),\n",
    "                    score=self.expected_confidence_level,\n",
    "                )\n",
    "                results.append(result)\n",
    "        return results\n",
    "\n",
    "\n",
    "# Instantiate the new NumbersRecognizer:\n",
    "new_numbers_recognizer = NumbersRecognizer(supported_entities=[\"NUMBER\"])\n",
    "\n",
    "text3 = \"Roberto lives in Five 10 Broad st.\"\n",
    "analyzer = AnalyzerEngine()\n",
    "analyzer.registry.add_recognizer(new_numbers_recognizer)\n",
    "\n",
    "numbers_results2 = analyzer.analyze(text=text3, language=\"en\")\n",
    "print(\"Results:\")\n",
    "print(\"\\n\".join([str(res) for res in numbers_results2]))"
   ]
  },
  {
   "cell_type": "code",
   "execution_count": null,
   "id": "8cb7da3d",
   "metadata": {},
   "outputs": [
    {
     "name": "stdout",
     "output_type": "stream",
     "text": [
      "识别结果：\n",
      "john.doe@example.com -> EMAIL_ADDRESS (置信度: 1.00)\n",
      "support@openai.com -> EMAIL_ADDRESS (置信度: 1.00)\n",
      "john.doe@example.com -> EMAIL (置信度: 0.85)\n",
      "support@openai.com -> EMAIL (置信度: 0.85)\n",
      "john.do -> URL (置信度: 0.50)\n",
      "example.com -> URL (置信度: 0.50)\n",
      "openai.com -> URL (置信度: 0.50)\n"
     ]
    }
   ],
   "source": [
    "# 自定义邮箱识别器示例：识别邮箱地址\n",
    "from typing import List\n",
    "from presidio_analyzer import EntityRecognizer, RecognizerResult\n",
    "from presidio_analyzer.nlp_engine import NlpArtifacts\n",
    "from presidio_analyzer import AnalyzerEngine\n",
    "import re\n",
    "\n",
    "class EmailRecognizer(EntityRecognizer):\n",
    "    # 设定邮箱识别的置信分数\n",
    "    expected_confidence_level = 0.85\n",
    "\n",
    "    def load(self) -> None:\n",
    "        \"\"\"邮箱识别器无需加载外部模型，直接跳过。\"\"\"\n",
    "        pass\n",
    "\n",
    "    def analyze(\n",
    "        self, text: str, entities: List[str], nlp_artifacts: NlpArtifacts\n",
    "    ) -> List[RecognizerResult]:\n",
    "        \"\"\"\n",
    "        检查文本中所有匹配邮箱正则表达式的部分，标记为 EMAIL。\n",
    "        \"\"\"\n",
    "        results = []\n",
    "\n",
    "        # 定义简单的邮箱正则表达式（可根据实际需求增强）\n",
    "        pattern = re.compile(r\"\\b[A-Za-z0-9._%+-]+@[A-Za-z0-9.-]+\\.[A-Za-z]{2,}\\b\")\n",
    "        # 遍历所有匹配项\n",
    "        for match in pattern.finditer(text):\n",
    "            start = match.start()\n",
    "            end = match.end()\n",
    "            # 记录识别结果\n",
    "            result = RecognizerResult(\n",
    "                entity_type=\"EMAIL\",\n",
    "                start=start,\n",
    "                end=end,\n",
    "                score=self.expected_confidence_level,\n",
    "            )\n",
    "            results.append(result)\n",
    "        return results\n",
    "\n",
    "# 实例化邮箱识别器，并注册到Presidio分析引擎\n",
    "new_email_recognizer = EmailRecognizer(supported_entities=[\"EMAIL\"])\n",
    "\n",
    "text4 = \"请联系 john.doe@example.com 或 support@openai.com 获取帮助。\"\n",
    "analyzer = AnalyzerEngine()\n",
    "analyzer.registry.add_recognizer(new_email_recognizer)\n",
    "\n",
    "email_results = analyzer.analyze(text=text4, language=\"en\")\n",
    "\n",
    "print(\"识别结果：\")\n",
    "for res in email_results:\n",
    "    print(f\"{text4[res.start:res.end]} -> {res.entity_type} (置信度: {res.score:.2f})\")\n"
   ]
  },
  {
   "cell_type": "code",
   "execution_count": null,
   "id": "b7021db7",
   "metadata": {},
   "outputs": [
    {
     "name": "stdout",
     "output_type": "stream",
     "text": [
      "john.doe@example.com. -> EMAIL 1.0\n",
      "john.doe@example.com -> EMAIL_ADDRESS 1.0\n",
      "john.do -> URL 0.5\n",
      "example.com -> URL 0.5\n"
     ]
    }
   ],
   "source": [
    "# 在特定上下文中识别邮箱地址\n",
    "from presidio_analyzer import PatternRecognizer, Pattern, AnalyzerEngine\n",
    "\n",
    "# 定义邮箱正则和上下文关键词\n",
    "email_pattern = Pattern(\"email_pattern\", r\"[a-zA-Z0-9_.+-]+@[a-zA-Z0-9-]+\\.[a-zA-Z0-9-.]+\", 0.8)\n",
    "context = [\"email\", \"mail\"]  # 只在这些关键词附近触发\n",
    "\n",
    "email_recognizer = PatternRecognizer(\n",
    "    supported_entity=\"EMAIL\",\n",
    "    patterns=[email_pattern],\n",
    "    context=context\n",
    ")\n",
    "\n",
    "analyzer = AnalyzerEngine()\n",
    "analyzer.registry.add_recognizer(email_recognizer)\n",
    "\n",
    "text = \"My email is john.doe@example.com. You can also find my address somewhere else.\"\n",
    "results = analyzer.analyze(text=text, language=\"en\")\n",
    "for res in results:\n",
    "    print(text[res.start:res.end], \"->\", res.entity_type, res.score)\n"
   ]
  }
 ],
 "metadata": {
  "kernelspec": {
   "display_name": "presidio",
   "language": "python",
   "name": "python3"
  },
  "language_info": {
   "codemirror_mode": {
    "name": "ipython",
    "version": 3
   },
   "file_extension": ".py",
   "mimetype": "text/x-python",
   "name": "python",
   "nbconvert_exporter": "python",
   "pygments_lexer": "ipython3",
   "version": "3.10.18"
  }
 },
 "nbformat": 4,
 "nbformat_minor": 5
}
