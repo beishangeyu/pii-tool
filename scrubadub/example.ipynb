{
 "cells": [
  {
   "cell_type": "code",
   "execution_count": 3,
   "id": "da5b4492",
   "metadata": {},
   "outputs": [
    {
     "name": "stdout",
     "output_type": "stream",
     "text": [
      "My email is {{EMAIL}} and my phone is 123-456-7890.\n"
     ]
    }
   ],
   "source": [
    "# 简单脱敏\n",
    "import scrubadub\n",
    "\n",
    "text = \"My email is alice@example.com and my phone is 123-456-7890.\"\n",
    "cleaned = scrubadub.clean(text)\n",
    "print(cleaned)\n",
    "# 输出: My email is {{EMAIL}} and my phone is {{PHONE}}\n"
   ]
  },
  {
   "cell_type": "code",
   "execution_count": 5,
   "id": "d6caa065",
   "metadata": {},
   "outputs": [
    {
     "name": "stdout",
     "output_type": "stream",
     "text": [
      "Call 123-456-7890 or email {{EMAIL}}\n"
     ]
    }
   ],
   "source": [
    "# 自定义检测器和处理流程\n",
    "import scrubadub\n",
    "\n",
    "scrubber = scrubadub.Scrubber()\n",
    "# 只保留邮箱检测，移除电话检测\n",
    "scrubber.remove_detector('phone')\n",
    "\n",
    "text = \"Call 123-456-7890 or email jane@example.com\"\n",
    "print(scrubber.clean(text))\n",
    "# 输出: Call 123-456-7890 or email {{EMAIL}}\n"
   ]
  },
  {
   "cell_type": "code",
   "execution_count": 6,
   "id": "07f5acda",
   "metadata": {},
   "outputs": [
    {
     "name": "stdout",
     "output_type": "stream",
     "text": [
      "Email: {{EMAIL}}\n"
     ]
    }
   ],
   "source": [
    "# 自定义替换格式\n",
    "import scrubadub\n",
    "\n",
    "scrubber = scrubadub.Scrubber()\n",
    "scrubber.remove_detector('phone')\n",
    "\n",
    "def custom_replace(filth):\n",
    "    return f\"[PII:{filth.type}]\"\n",
    "\n",
    "scrubber.add_post_processor(lambda text, filth: custom_replace(filth))\n",
    "\n",
    "text = \"Email: jane@example.com\"\n",
    "print(scrubber.clean(text))\n",
    "# 输出: Email: [PII:email]\n"
   ]
  }
 ],
 "metadata": {
  "kernelspec": {
   "display_name": "scrubdub",
   "language": "python",
   "name": "python3"
  },
  "language_info": {
   "codemirror_mode": {
    "name": "ipython",
    "version": 3
   },
   "file_extension": ".py",
   "mimetype": "text/x-python",
   "name": "python",
   "nbconvert_exporter": "python",
   "pygments_lexer": "ipython3",
   "version": "3.8.20"
  }
 },
 "nbformat": 4,
 "nbformat_minor": 5
}
