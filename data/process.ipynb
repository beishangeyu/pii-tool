{
 "cells": [
  {
   "cell_type": "code",
   "execution_count": null,
   "id": "62c818aa",
   "metadata": {},
   "outputs": [],
   "source": [
    "import gzip\n",
    "import json\n",
    "import os\n",
    "\n",
    "# 是的，你可以直接读取 .gz 文件，无需解压到磁盘。可以用 gzip.open 以文本模式读取内容，例如：\n",
    "input_dir = \"./c4/en\"\n",
    "\n",
    "for filename in os.listdir(input_dir):\n",
    "    if filename.endswith(\".json.gz\"):\n",
    "        input_path = os.path.join(input_dir, filename)\n",
    "        with gzip.open(input_path, \"rt\", encoding=\"utf-8\") as f_in:\n",
    "            for line in f_in:\n",
    "                item = json.loads(line)\n",
    "                print(item)\n",
    "    break"
   ]
  },
  {
   "cell_type": "code",
   "execution_count": null,
   "id": "8da2d0e9",
   "metadata": {},
   "outputs": [],
   "source": [
    "# Example of a C4 dataset item\n",
    "{\n",
    "    \"text\": \"Beginners BBQ Class Taking Place in Missoula!\\nDo you want to get better at making delicious BBQ? You will have the opportunity, put this on your calendar now. Thursday, September 22nd join World Class BBQ Champion, Tony Balay from Lonestar Smoke Rangers. He will be teaching a beginner level class for everyone who wants to get better with their culinary skills.\\nHe will teach you everything you need to know to compete in a KCBS BBQ competition, including techniques, recipes, timelines, meat selection and trimming, plus smoker and fire information.\\nThe cost to be in the class is $35 per person, and for spectators it is free. Included in the cost will be either a t-shirt or apron and you will be tasting samples of each meat that is prepared.\",\n",
    "    \"timestamp\": \"2019-04-25T12:57:54Z\",\n",
    "    \"url\": \"https://klyq.com/beginners-bbq-class-taking-place-in-missoula/\",\n",
    "}"
   ]
  },
  {
   "cell_type": "code",
   "execution_count": null,
   "id": "9100ea27",
   "metadata": {},
   "outputs": [],
   "source": []
  }
 ],
 "metadata": {
  "kernelspec": {
   "display_name": "adv",
   "language": "python",
   "name": "python3"
  },
  "language_info": {
   "codemirror_mode": {
    "name": "ipython",
    "version": 3
   },
   "file_extension": ".py",
   "mimetype": "text/x-python",
   "name": "python",
   "nbconvert_exporter": "python",
   "pygments_lexer": "ipython3",
   "version": "3.10.14"
  }
 },
 "nbformat": 4,
 "nbformat_minor": 5
}
